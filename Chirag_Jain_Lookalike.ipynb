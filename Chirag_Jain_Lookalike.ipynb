{
 "cells": [
  {
   "cell_type": "code",
   "execution_count": 1,
   "id": "054314be-36f2-4750-85c1-abb3dd803ef3",
   "metadata": {},
   "outputs": [
    {
     "name": "stdout",
     "output_type": "stream",
     "text": [
      "Lookalike recommendations saved to Lookalike.csv\n"
     ]
    }
   ],
   "source": [
    "import pandas as pd\n",
    "from sklearn.metrics.pairwise import cosine_similarity\n",
    "from sklearn.preprocessing import StandardScaler"
   ]
  },
  {
   "cell_type": "code",
   "execution_count": null,
   "id": "8db73ad4-31d4-4b5a-9ff8-140b5a83d036",
   "metadata": {},
   "outputs": [],
   "source": [
    "customers = pd.read_csv(\"customers.csv\")\n",
    "products = pd.read_csv(\"products.csv\")\n",
    "transactions = pd.read_csv(\"transactions.csv\")"
   ]
  },
  {
   "cell_type": "code",
   "execution_count": null,
   "id": "9d2d01b6-e8ff-430c-9cd1-ff0a9727065c",
   "metadata": {},
   "outputs": [],
   "source": [
    "customers['SignupDate'] = pd.to_datetime(customers['SignupDate'])\n",
    "transactions['TransactionDate'] = pd.to_datetime(transactions['TransactionDate'])"
   ]
  },
  {
   "cell_type": "code",
   "execution_count": null,
   "id": "d4f3263d-6d91-479d-9e7a-7c71b6a5aef3",
   "metadata": {},
   "outputs": [],
   "source": [
    "transaction_features = transactions.groupby('CustomerID').agg({\n",
    " 'TotalValue': ['sum', 'mean', 'count'],\n",
    " 'Quantity': ['sum', 'mean']\n",
    "}).reset_index()\n",
    "transaction_features.columns = ['CustomerID', 'TotalValue_sum', 'TotalValue_mean', 'Transaction_count', 'Quantity_sum', 'Quantity_mean']\n",
    "\n",
    "\n",
    "customer_data = pd.merge(customers, transaction_features, on='CustomerID', how='left')\n",
    "\n",
    "\n",
    "customer_data.fillna(0, inplace=True)\n",
    "\n",
    "\n",
    "customer_data = pd.get_dummies(customer_data, columns=['Region'])\n",
    "\n",
    "\n",
    "scaler = StandardScaler()\n",
    "numerical_features = ['TotalValue_sum', 'TotalValue_mean', 'Transaction_count', 'Quantity_sum', 'Quantity_mean']\n",
    "customer_data[numerical_features] = scaler.fit_transform(customer_data[numerical_features])\n",
    "\n",
    "\n",
    "similarity_matrix = cosine_similarity(customer_data.drop(columns=['CustomerID', 'CustomerName', 'SignupDate']))\n",
    "\n",
    "\n",
    "lookalike_results = {}\n",
    "for i in range(20):\n",
    " customer_id = customer_data.iloc[i]['CustomerID']\n",
    " similarities = list(enumerate(similarity_matrix[i]))\n",
    " \n",
    " similarities = [(idx, score) for idx, score in similarities if idx != i]\n",
    "\n",
    " similarities.sort(key=lambda x: x[1], reverse=True)\n",
    "\n",
    " top_3 = similarities[:3]\n",
    " lookalike_results[customer_id] = [(customer_data.iloc[idx]['CustomerID'], score) for idx, score in top_3]\n",
    "\n",
    "# Save results to CSV\n",
    "lookalike_df = pd.DataFrame.from_dict(lookalike_results, orient='index')\n",
    "lookalike_df.to_csv(\"Chirag_Jain_Lookalike.csv\", header=False)\n",
    "\n",
    "print(\"Lookalike recommendations saved\")"
   ]
  }
 ],
 "metadata": {
  "kernelspec": {
   "display_name": "Python 3 (ipykernel)",
   "language": "python",
   "name": "python3"
  },
  "language_info": {
   "codemirror_mode": {
    "name": "ipython",
    "version": 3
   },
   "file_extension": ".py",
   "mimetype": "text/x-python",
   "name": "python",
   "nbconvert_exporter": "python",
   "pygments_lexer": "ipython3",
   "version": "3.12.3"
  }
 },
 "nbformat": 4,
 "nbformat_minor": 5
}
